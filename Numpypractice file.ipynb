{
 "cells": [
  {
   "cell_type": "code",
   "execution_count": 1,
   "id": "40c0dec1-2766-4519-a5de-4a6cee4e655b",
   "metadata": {},
   "outputs": [
    {
     "name": "stdout",
     "output_type": "stream",
     "text": [
      "Requirement already satisfied: numpy in c:\\users\\gowda\\anaconda3\\lib\\site-packages (1.26.4)\n"
     ]
    }
   ],
   "source": [
    "!pip install numpy"
   ]
  },
  {
   "cell_type": "code",
   "execution_count": 3,
   "id": "3d247c44-7379-4c37-8f9c-94be0cf3b26e",
   "metadata": {},
   "outputs": [],
   "source": [
    "import numpy as np\n"
   ]
  },
  {
   "cell_type": "code",
   "execution_count": 12,
   "id": "97233e6c-0da3-4e29-b2ac-c9351af0cb22",
   "metadata": {},
   "outputs": [
    {
     "name": "stdout",
     "output_type": "stream",
     "text": [
      "['1' '2' '3' '4' 'sam']\n"
     ]
    }
   ],
   "source": [
    "serials=np.array([1,2,3,4,'sam'])\n",
    "print(serials)"
   ]
  },
  {
   "cell_type": "code",
   "execution_count": 17,
   "id": "d6d68f68-ed9a-40cd-9e4b-8f73a67f366e",
   "metadata": {},
   "outputs": [
    {
     "name": "stdout",
     "output_type": "stream",
     "text": [
      "a dimesion :  0\n",
      "b dimesion :  2\n",
      "c dimesion :  3\n",
      "d dimesion :  4\n"
     ]
    }
   ],
   "source": [
    " #NUMPY ARRAYS:\n",
    "#dimesions:\n",
    "a=np.array(10)\n",
    "b=np.array([[1,2,3],[4,5,6]])\n",
    "c=np.array([[[1,2,3],[4,5,6],[7,8,9]]])\n",
    "d=np.array([[[[1,2,3],[4,5,6],[7,8,9],[10,11,12]]]])\n",
    "print('a dimesion : ',a.ndim)\n",
    "print('b dimesion : ',b.ndim)\n",
    "print('c dimesion : ',c.ndim)\n",
    "print('d dimesion : ',d.ndim)\n"
   ]
  },
  {
   "cell_type": "code",
   "execution_count": 18,
   "id": "bd7d1a2a-a345-4596-a143-d375100e4c30",
   "metadata": {},
   "outputs": [
    {
     "name": "stdout",
     "output_type": "stream",
     "text": [
      "10\n",
      "a shape :  ()\n",
      "[[1 2 3]\n",
      " [4 5 6]]\n",
      "b shape :  (2, 3)\n",
      "[[[1 2 3]\n",
      "  [4 5 6]\n",
      "  [7 8 9]]]\n",
      "c shape :  (1, 3, 3)\n",
      "[[[[ 1  2  3]\n",
      "   [ 4  5  6]\n",
      "   [ 7  8  9]\n",
      "   [10 11 12]]]]\n",
      "d shape :  (1, 1, 4, 3)\n"
     ]
    }
   ],
   "source": [
    "#shape:\n",
    "print(a)\n",
    "print('a shape : ',a.shape)\n",
    "print(b)\n",
    "print('b shape : ',b.shape)\n",
    "print(c)\n",
    "print('c shape : ',c.shape)\n",
    "print(d)\n",
    "print('d shape : ',d.shape)"
   ]
  },
  {
   "cell_type": "code",
   "execution_count": 19,
   "id": "ac6fbcf3-248d-48ae-8e27-a8c65489e3bc",
   "metadata": {},
   "outputs": [
    {
     "name": "stdout",
     "output_type": "stream",
     "text": [
      "int32\n"
     ]
    }
   ],
   "source": [
    "#data type:\n",
    "print(c.dtype)"
   ]
  },
  {
   "cell_type": "code",
   "execution_count": 20,
   "id": "64bee21b-6eac-4d0f-ab4a-0256e7e4dfa1",
   "metadata": {},
   "outputs": [
    {
     "name": "stdout",
     "output_type": "stream",
     "text": [
      "<class 'numpy.ndarray'>\n"
     ]
    }
   ],
   "source": [
    "#type of variable:\n",
    "print(type(a))"
   ]
  },
  {
   "cell_type": "code",
   "execution_count": 21,
   "id": "8cd86782-f042-4f19-ac66-49f01bcbb4a9",
   "metadata": {},
   "outputs": [
    {
     "data": {
      "text/plain": [
       "2"
      ]
     },
     "execution_count": 21,
     "metadata": {},
     "output_type": "execute_result"
    }
   ],
   "source": [
    "#length:\n",
    "len(b)"
   ]
  },
  {
   "cell_type": "code",
   "execution_count": 23,
   "id": "ab1a2ed1-11c0-4c42-814c-78d277e1968a",
   "metadata": {},
   "outputs": [
    {
     "data": {
      "text/plain": [
       "array([ 1,  2,  3,  4,  5,  6,  7,  8,  9, 10])"
      ]
     },
     "execution_count": 23,
     "metadata": {},
     "output_type": "execute_result"
    }
   ],
   "source": [
    "# Creating Numpyarrays:\n",
    "# 1.using  arange fuction:\n",
    "np.arange(1,11)\n",
    "\n"
   ]
  },
  {
   "cell_type": "code",
   "execution_count": 24,
   "id": "12671903-30f5-4d03-805a-e3f50639e066",
   "metadata": {},
   "outputs": [
    {
     "data": {
      "text/plain": [
       "array([1, 3, 5, 7, 9])"
      ]
     },
     "execution_count": 24,
     "metadata": {},
     "output_type": "execute_result"
    }
   ],
   "source": [
    "np.arange(1,11,2)"
   ]
  },
  {
   "cell_type": "code",
   "execution_count": 28,
   "id": "9911c484-72f6-44ce-ab40-309f449f6985",
   "metadata": {},
   "outputs": [
    {
     "data": {
      "text/plain": [
       "array([[1, 0],\n",
       "       [0, 1]])"
      ]
     },
     "execution_count": 28,
     "metadata": {},
     "output_type": "execute_result"
    }
   ],
   "source": [
    "# 2.using eye function:\n",
    "np.eye(2,dtype=int)"
   ]
  },
  {
   "cell_type": "code",
   "execution_count": 38,
   "id": "36e66eb6-1ec4-4b22-bc01-1947c22cd744",
   "metadata": {},
   "outputs": [
    {
     "data": {
      "text/plain": [
       "array([[0, 0],\n",
       "       [0, 0],\n",
       "       [0, 0]])"
      ]
     },
     "execution_count": 38,
     "metadata": {},
     "output_type": "execute_result"
    }
   ],
   "source": [
    "# 3.using zero function:\n",
    "np.zeros((3,2),dtype ='int')"
   ]
  },
  {
   "cell_type": "code",
   "execution_count": 39,
   "id": "05b273bb-7159-4d2d-9125-2e512be56dd4",
   "metadata": {},
   "outputs": [
    {
     "data": {
      "text/plain": [
       "array([[1, 1],\n",
       "       [1, 1],\n",
       "       [1, 1]])"
      ]
     },
     "execution_count": 39,
     "metadata": {},
     "output_type": "execute_result"
    }
   ],
   "source": [
    "#using one fuction:\n",
    "np.ones((3,2),dtype='int')"
   ]
  },
  {
   "cell_type": "code",
   "execution_count": 43,
   "id": "e0be6c10-3afe-4287-b727-f365033abc51",
   "metadata": {},
   "outputs": [
    {
     "data": {
      "text/plain": [
       "array([[3, 3],\n",
       "       [3, 3],\n",
       "       [3, 3]])"
      ]
     },
     "execution_count": 43,
     "metadata": {},
     "output_type": "execute_result"
    }
   ],
   "source": [
    "#using full function:\n",
    "np.full((3,2),3,dtype='int')"
   ]
  },
  {
   "cell_type": "code",
   "execution_count": 45,
   "id": "79549144-482a-4775-ae49-2fefc5b794c3",
   "metadata": {},
   "outputs": [
    {
     "data": {
      "text/plain": [
       "array([[1, 0, 0, 0, 0, 0],\n",
       "       [0, 2, 0, 0, 0, 0],\n",
       "       [0, 0, 3, 0, 0, 0],\n",
       "       [0, 0, 0, 4, 0, 0],\n",
       "       [0, 0, 0, 0, 5, 0],\n",
       "       [0, 0, 0, 0, 0, 6]])"
      ]
     },
     "execution_count": 45,
     "metadata": {},
     "output_type": "execute_result"
    }
   ],
   "source": [
    "#using diag function:\n",
    "x=[1,2,3,4,5,6]\n",
    "np.diag(x)"
   ]
  },
  {
   "cell_type": "code",
   "execution_count": null,
   "id": "319d9bc8-3683-4626-8ebb-d6306f6a15f0",
   "metadata": {},
   "outputs": [],
   "source": []
  },
  {
   "cell_type": "code",
   "execution_count": 56,
   "id": "92e7e310-f77d-4795-bc1c-fe71b318846a",
   "metadata": {},
   "outputs": [
    {
     "name": "stdout",
     "output_type": "stream",
     "text": [
      "[ 1  2  3  4  5  6  7  8  9 10]\n",
      "(10,)\n",
      "1\n"
     ]
    }
   ],
   "source": [
    "# numpy reshape:\n",
    "x=np.arange(1,11)\n",
    "print(x)\n",
    "print(x.shape)\n",
    "print(x.ndim)"
   ]
  },
  {
   "cell_type": "code",
   "execution_count": 61,
   "id": "ef0e2b98-0767-4134-adff-a6893af90818",
   "metadata": {},
   "outputs": [
    {
     "name": "stdout",
     "output_type": "stream",
     "text": [
      "[[ 1  2]\n",
      " [ 3  4]\n",
      " [ 5  6]\n",
      " [ 7  8]\n",
      " [ 9 10]]\n",
      "(5, 2)\n",
      "2\n"
     ]
    }
   ],
   "source": [
    "n=x.reshape((5,2))\n",
    "print(n)\n",
    "print(n.shape)\n",
    "print(n.ndim)"
   ]
  },
  {
   "cell_type": "code",
   "execution_count": 63,
   "id": "e40063a8-b930-4901-aa5e-0d1ecd672681",
   "metadata": {},
   "outputs": [
    {
     "name": "stdout",
     "output_type": "stream",
     "text": [
      "(10,)\n",
      "[ 1  2  3  4  5  6  7  8  9 10]\n",
      "1\n"
     ]
    }
   ],
   "source": [
    "# convert into old dimesion\n",
    "v=n.ravel()\n",
    "print(v.shape)\n",
    "print(v)\n",
    "print(v.ndim)\n"
   ]
  },
  {
   "cell_type": "code",
   "execution_count": 64,
   "id": "aaef4c4f-fdb1-4966-b99d-dedee3d09c8b",
   "metadata": {},
   "outputs": [
    {
     "name": "stdout",
     "output_type": "stream",
     "text": [
      "[[ 1  2  3  4  5]\n",
      " [ 6  7  8  9 10]]\n"
     ]
    }
   ],
   "source": [
    "n=x.reshape(2,5)\n",
    "print(n)"
   ]
  },
  {
   "cell_type": "code",
   "execution_count": 66,
   "id": "3c06b6ac-7c4a-4514-8882-67d95e4d068d",
   "metadata": {},
   "outputs": [
    {
     "data": {
      "text/plain": [
       "array([ 1,  2,  3,  4,  5,  6,  7,  8,  9, 10])"
      ]
     },
     "execution_count": 66,
     "metadata": {},
     "output_type": "execute_result"
    }
   ],
   "source": [
    "x.flatten()"
   ]
  },
  {
   "cell_type": "code",
   "execution_count": 67,
   "id": "94467164-bdea-4088-959c-a6e909dc2f84",
   "metadata": {},
   "outputs": [
    {
     "name": "stdout",
     "output_type": "stream",
     "text": [
      "[ 2  4  6  8 10 12 14 16]\n"
     ]
    }
   ],
   "source": [
    "#numpy array indexing\n",
    "a=np.arange(2,17,2)\n",
    "print(a)"
   ]
  },
  {
   "cell_type": "code",
   "execution_count": 69,
   "id": "53610131-7c6e-43fc-83d4-56a61c9b3d7d",
   "metadata": {},
   "outputs": [
    {
     "data": {
      "text/plain": [
       "4"
      ]
     },
     "execution_count": 69,
     "metadata": {},
     "output_type": "execute_result"
    }
   ],
   "source": [
    "#get second element from array\n",
    "a[1]"
   ]
  },
  {
   "cell_type": "code",
   "execution_count": 74,
   "id": "7be59491-1c3b-42a4-9ce3-0525e2efee91",
   "metadata": {},
   "outputs": [
    {
     "data": {
      "text/plain": [
       "array([ 8, 12, 16])"
      ]
     },
     "execution_count": 74,
     "metadata": {},
     "output_type": "execute_result"
    }
   ],
   "source": [
    "#get 4,6,8 elements from the array\n",
    "a[3:8:2]"
   ]
  },
  {
   "cell_type": "code",
   "execution_count": 75,
   "id": "96ebe6f0-851f-4d50-ada9-338155ff9a7a",
   "metadata": {},
   "outputs": [
    {
     "data": {
      "text/plain": [
       "array([[1, 2, 3],\n",
       "       [4, 5, 6],\n",
       "       [7, 8, 9]])"
      ]
     },
     "execution_count": 75,
     "metadata": {},
     "output_type": "execute_result"
    }
   ],
   "source": [
    "#2d array\n",
    "a = np.array([[1,2,3],[4,5,6],[7,8,9]])\n",
    "a"
   ]
  },
  {
   "cell_type": "code",
   "execution_count": 77,
   "id": "b37d4dc8-52cb-4ca4-9016-1a6a9c8ab136",
   "metadata": {},
   "outputs": [
    {
     "data": {
      "text/plain": [
       "9"
      ]
     },
     "execution_count": 77,
     "metadata": {},
     "output_type": "execute_result"
    }
   ],
   "source": [
    "#get 3rd element from 3rd row\n",
    "a[2,2]"
   ]
  },
  {
   "cell_type": "code",
   "execution_count": 78,
   "id": "9fb2cfce-81e7-4fef-91ba-8fce8a217a4d",
   "metadata": {},
   "outputs": [
    {
     "data": {
      "text/plain": [
       "array([[[ 1,  2,  3],\n",
       "        [ 4,  5,  6]],\n",
       "\n",
       "       [[ 7,  8,  9],\n",
       "        [10, 11, 12]]])"
      ]
     },
     "execution_count": 78,
     "metadata": {},
     "output_type": "execute_result"
    }
   ],
   "source": [
    "# Define an array b again with [[[1, 2, 3], [4, 5, 6]], [[7, 8, 9], [10, 11, 12]]] as its elements.\n",
    "b = np.array([[[1, 2, 3], [4, 5, 6]], [[7, 8, 9], [10, 11, 12]]])\n",
    "b.shape\n",
    "b"
   ]
  },
  {
   "cell_type": "code",
   "execution_count": 83,
   "id": "a7398649-2dbf-4e6c-a070-de98272ce6e2",
   "metadata": {},
   "outputs": [
    {
     "data": {
      "text/plain": [
       "5"
      ]
     },
     "execution_count": 83,
     "metadata": {},
     "output_type": "execute_result"
    }
   ],
   "source": [
    "# Print 3rd element from 2nd list which is 1st list in nested list passed. 'a' have nested array.Understand the braket differences.\n",
    "b[0][1][1]"
   ]
  },
  {
   "cell_type": "code",
   "execution_count": 88,
   "id": "33ad505b-8704-4727-8e5a-a126ea007602",
   "metadata": {},
   "outputs": [
    {
     "data": {
      "text/plain": [
       "array([ 1,  2,  3,  4,  5,  6,  7,  8,  9, 10])"
      ]
     },
     "execution_count": 88,
     "metadata": {},
     "output_type": "execute_result"
    }
   ],
   "source": [
    "#numpy array slicing\n",
    "a=np.arange(1,11)\n",
    "a"
   ]
  },
  {
   "cell_type": "code",
   "execution_count": 90,
   "id": "aff93eae-706e-4eab-8f53-7b2f22c9ae47",
   "metadata": {},
   "outputs": [
    {
     "data": {
      "text/plain": [
       "array([ 6,  7,  8,  9, 10])"
      ]
     },
     "execution_count": 90,
     "metadata": {},
     "output_type": "execute_result"
    }
   ],
   "source": [
    "\n",
    "a[5:]\n"
   ]
  },
  {
   "cell_type": "code",
   "execution_count": 91,
   "id": "ba3f2449-cac9-4c7b-bfe7-834b7d3c9d7e",
   "metadata": {},
   "outputs": [
    {
     "data": {
      "text/plain": [
       "array([1, 2, 3, 4, 5])"
      ]
     },
     "execution_count": 91,
     "metadata": {},
     "output_type": "execute_result"
    }
   ],
   "source": [
    "a[0:5]"
   ]
  },
  {
   "cell_type": "code",
   "execution_count": 92,
   "id": "d6470403-6d0f-4e8c-addd-09a6e6fa48d5",
   "metadata": {},
   "outputs": [
    {
     "data": {
      "text/plain": [
       "array([ 1,  2,  3,  4,  5,  6,  7,  8,  9, 10])"
      ]
     },
     "execution_count": 92,
     "metadata": {},
     "output_type": "execute_result"
    }
   ],
   "source": [
    "a"
   ]
  },
  {
   "cell_type": "code",
   "execution_count": 95,
   "id": "1f0d3c95-e3e4-468d-b9dc-9ac9846e1543",
   "metadata": {},
   "outputs": [
    {
     "name": "stdout",
     "output_type": "stream",
     "text": [
      "[[ 1  2]\n",
      " [ 3  4]\n",
      " [ 5  6]\n",
      " [ 7  8]\n",
      " [ 9 10]]\n"
     ]
    }
   ],
   "source": [
    "n=a.reshape((5,2))\n",
    "print(n)"
   ]
  },
  {
   "cell_type": "code",
   "execution_count": 96,
   "id": "4376414a-3bff-4a07-8c0d-9e825b19b81a",
   "metadata": {},
   "outputs": [
    {
     "data": {
      "text/plain": [
       "2"
      ]
     },
     "execution_count": 96,
     "metadata": {},
     "output_type": "execute_result"
    }
   ],
   "source": [
    "a[1]"
   ]
  },
  {
   "cell_type": "code",
   "execution_count": 99,
   "id": "67f20548-e2a0-40e4-a925-c2af0d9b9b46",
   "metadata": {},
   "outputs": [
    {
     "data": {
      "text/plain": [
       "3"
      ]
     },
     "execution_count": 99,
     "metadata": {},
     "output_type": "execute_result"
    }
   ],
   "source": [
    "a[2]"
   ]
  },
  {
   "cell_type": "code",
   "execution_count": 100,
   "id": "29234a92-7c06-46ba-b734-403ce715f9e7",
   "metadata": {},
   "outputs": [
    {
     "data": {
      "text/plain": [
       "10"
      ]
     },
     "execution_count": 100,
     "metadata": {},
     "output_type": "execute_result"
    }
   ],
   "source": [
    "a[9]"
   ]
  },
  {
   "cell_type": "code",
   "execution_count": 101,
   "id": "06a50ba1-b77a-40d5-b29a-6d6f18d34627",
   "metadata": {},
   "outputs": [
    {
     "data": {
      "text/plain": [
       "array([0, 1, 2, 3, 4, 5, 6, 7, 8, 9])"
      ]
     },
     "execution_count": 101,
     "metadata": {},
     "output_type": "execute_result"
    }
   ],
   "source": [
    "#numpy copy vs view\n",
    "x1=np.arange(10)\n",
    "x1"
   ]
  },
  {
   "cell_type": "code",
   "execution_count": 116,
   "id": "047ccb8c-19bd-4b5c-8105-640c04e51827",
   "metadata": {},
   "outputs": [
    {
     "name": "stdout",
     "output_type": "stream",
     "text": [
      "[0 1 2 3 4 5 6 7 8 9]\n",
      "[0 1 2 3 4 5 6 7 8 9]\n"
     ]
    }
   ],
   "source": [
    "x2 = x1\n",
    "print(x1)\n",
    "print(x2)"
   ]
  },
  {
   "cell_type": "code",
   "execution_count": 128,
   "id": "f13503d9-a5dd-48d1-a733-293f8f3731d1",
   "metadata": {},
   "outputs": [
    {
     "name": "stdout",
     "output_type": "stream",
     "text": [
      "[10 10  2  3  4  5  6  7  8  9]\n"
     ]
    }
   ],
   "source": [
    "x2[0] = 10\n",
    "print(x2)"
   ]
  },
  {
   "cell_type": "code",
   "execution_count": 122,
   "id": "a91e748d-b90f-4c77-81cc-a66732c417b4",
   "metadata": {},
   "outputs": [
    {
     "name": "stdout",
     "output_type": "stream",
     "text": [
      "2698875829584\n",
      "2698875829584\n"
     ]
    }
   ],
   "source": [
    "print(id(x1))\n",
    "print(id(x2))"
   ]
  },
  {
   "cell_type": "code",
   "execution_count": 125,
   "id": "9fd611fb-2538-4a14-9e20-7eb2c336ddac",
   "metadata": {},
   "outputs": [
    {
     "name": "stdout",
     "output_type": "stream",
     "text": [
      "True\n",
      "2698875829584\n",
      "2698875829584\n"
     ]
    }
   ],
   "source": [
    "print(np.shares_memory(x1, x2))\n",
    "print(id(x1))\n",
    "print(id(x2))"
   ]
  },
  {
   "cell_type": "code",
   "execution_count": 127,
   "id": "497462d1-c3a3-497e-b32a-9af463710808",
   "metadata": {},
   "outputs": [
    {
     "data": {
      "text/plain": [
       "array([10, 10,  2,  3,  4,  5,  6,  7,  8,  9])"
      ]
     },
     "execution_count": 127,
     "metadata": {},
     "output_type": "execute_result"
    }
   ],
   "source": [
    "#view- if we change any element in one array(x1),another array (x3)also change \n",
    "x3 = x1.view()\n",
    "x3"
   ]
  },
  {
   "cell_type": "code",
   "execution_count": 129,
   "id": "899dee50-c332-4c15-b010-0e30b6acd266",
   "metadata": {},
   "outputs": [
    {
     "data": {
      "text/plain": [
       "True"
      ]
     },
     "execution_count": 129,
     "metadata": {},
     "output_type": "execute_result"
    }
   ],
   "source": [
    "np.shares_memory(x1, x3)"
   ]
  },
  {
   "cell_type": "code",
   "execution_count": 131,
   "id": "37e457aa-4dc9-4ced-b816-4799f8d68d93",
   "metadata": {},
   "outputs": [
    {
     "data": {
      "text/plain": [
       "array([100,  10,   2,   3,   4,   5,   6,   7,   8,   9])"
      ]
     },
     "execution_count": 131,
     "metadata": {},
     "output_type": "execute_result"
    }
   ],
   "source": [
    "x3[0]=100\n",
    "x3"
   ]
  },
  {
   "cell_type": "code",
   "execution_count": 132,
   "id": "dca00a64-7fdb-4c01-a7fd-d5da35c2dc3f",
   "metadata": {},
   "outputs": [
    {
     "data": {
      "text/plain": [
       "array([100,  10,   2,   3,   4,   5,   6,   7,   8,   9])"
      ]
     },
     "execution_count": 132,
     "metadata": {},
     "output_type": "execute_result"
    }
   ],
   "source": [
    "x1"
   ]
  },
  {
   "cell_type": "code",
   "execution_count": 133,
   "id": "cda0f3ad-c624-43b4-847e-769619f58a3a",
   "metadata": {},
   "outputs": [
    {
     "name": "stdout",
     "output_type": "stream",
     "text": [
      "2698875829584\n",
      "2698876641104\n"
     ]
    }
   ],
   "source": [
    "print(id(x1))\n",
    "print(id(x3))"
   ]
  },
  {
   "cell_type": "code",
   "execution_count": 136,
   "id": "4ae6ee78-a1f9-4491-af31-093abe71ddca",
   "metadata": {},
   "outputs": [
    {
     "data": {
      "text/plain": [
       "array([100,  10,   2,   3,   4,   5,   6,   7,   8,   9])"
      ]
     },
     "execution_count": 136,
     "metadata": {},
     "output_type": "execute_result"
    }
   ],
   "source": [
    "#copy\n",
    "x4=np.copy(x1)\n",
    "x4"
   ]
  },
  {
   "cell_type": "code",
   "execution_count": 137,
   "id": "3e071c0c-5ca3-46d0-b290-8064fafcef86",
   "metadata": {},
   "outputs": [
    {
     "data": {
      "text/plain": [
       "array([100,  10,   2,   3,   4,   5,   6,   7,   8, 900])"
      ]
     },
     "execution_count": 137,
     "metadata": {},
     "output_type": "execute_result"
    }
   ],
   "source": [
    "x4[-1]=900\n",
    "x4"
   ]
  },
  {
   "cell_type": "code",
   "execution_count": 138,
   "id": "01e1d2fc-5420-4547-b7d9-021a762dd483",
   "metadata": {},
   "outputs": [
    {
     "data": {
      "text/plain": [
       "array([100,  10,   2,   3,   4,   5,   6,   7,   8,   9])"
      ]
     },
     "execution_count": 138,
     "metadata": {},
     "output_type": "execute_result"
    }
   ],
   "source": [
    "x1"
   ]
  },
  {
   "cell_type": "code",
   "execution_count": 140,
   "id": "f53c8347-8b7e-49cc-9667-2beac6142e4c",
   "metadata": {},
   "outputs": [
    {
     "data": {
      "text/plain": [
       "False"
      ]
     },
     "execution_count": 140,
     "metadata": {},
     "output_type": "execute_result"
    }
   ],
   "source": [
    "np.shares_memory(x1,x4)"
   ]
  },
  {
   "cell_type": "code",
   "execution_count": 141,
   "id": "cea64628-53cf-4ebd-8ae8-ccad892d5f81",
   "metadata": {},
   "outputs": [
    {
     "data": {
      "text/plain": [
       "array([ 1,  2,  3,  4,  5,  6,  7,  8,  9, 10])"
      ]
     },
     "execution_count": 141,
     "metadata": {},
     "output_type": "execute_result"
    }
   ],
   "source": [
    "a"
   ]
  },
  {
   "cell_type": "code",
   "execution_count": 142,
   "id": "48006a09-8a3a-4397-b067-cfa8aeed117a",
   "metadata": {},
   "outputs": [
    {
     "data": {
      "text/plain": [
       "array([False, False, False,  True,  True,  True,  True,  True,  True,\n",
       "        True])"
      ]
     },
     "execution_count": 142,
     "metadata": {},
     "output_type": "execute_result"
    }
   ],
   "source": [
    "a>3"
   ]
  },
  {
   "cell_type": "code",
   "execution_count": 143,
   "id": "335e5a6e-7e0f-4a3d-96c3-e2544a3e2f34",
   "metadata": {},
   "outputs": [
    {
     "data": {
      "text/plain": [
       "array([ 4,  5,  6,  7,  8,  9, 10])"
      ]
     },
     "execution_count": 143,
     "metadata": {},
     "output_type": "execute_result"
    }
   ],
   "source": [
    "a[a>3]"
   ]
  },
  {
   "cell_type": "code",
   "execution_count": 146,
   "id": "33ff6cec-6608-449a-b61f-9dfa74d3d9c4",
   "metadata": {},
   "outputs": [
    {
     "data": {
      "text/plain": [
       "array([5, 6, 7, 8, 9])"
      ]
     },
     "execution_count": 146,
     "metadata": {},
     "output_type": "execute_result"
    }
   ],
   "source": [
    "a[(a>4)&(a<10)]"
   ]
  },
  {
   "cell_type": "code",
   "execution_count": 147,
   "id": "41a51ba3-671e-4b20-ac25-6552fa01e62b",
   "metadata": {},
   "outputs": [
    {
     "data": {
      "text/plain": [
       "array([ True,  True,  True,  True,  True,  True,  True,  True,  True,\n",
       "        True])"
      ]
     },
     "execution_count": 147,
     "metadata": {},
     "output_type": "execute_result"
    }
   ],
   "source": [
    "x1 == x2"
   ]
  },
  {
   "cell_type": "code",
   "execution_count": 148,
   "id": "081f2553-8aba-4ca3-93ea-7754ae64e411",
   "metadata": {},
   "outputs": [
    {
     "data": {
      "text/plain": [
       "array([False, False, False, False, False, False, False, False, False,\n",
       "       False])"
      ]
     },
     "execution_count": 148,
     "metadata": {},
     "output_type": "execute_result"
    }
   ],
   "source": [
    "x1 != x2"
   ]
  },
  {
   "cell_type": "code",
   "execution_count": 149,
   "id": "aa26b72a-5929-4558-8989-3a080b53e843",
   "metadata": {},
   "outputs": [
    {
     "data": {
      "text/plain": [
       "array([ True,  True,  True,  True,  True,  True,  True,  True,  True,\n",
       "       False])"
      ]
     },
     "execution_count": 149,
     "metadata": {},
     "output_type": "execute_result"
    }
   ],
   "source": [
    "x1 == x4"
   ]
  },
  {
   "cell_type": "code",
   "execution_count": 150,
   "id": "87a04247-5f8e-48f0-be6e-39625124dcf4",
   "metadata": {},
   "outputs": [
    {
     "data": {
      "text/plain": [
       "array([ 1,  2,  3,  4,  5,  6,  7,  8,  9, 10])"
      ]
     },
     "execution_count": 150,
     "metadata": {},
     "output_type": "execute_result"
    }
   ],
   "source": [
    "#transposing\n",
    "a"
   ]
  },
  {
   "cell_type": "code",
   "execution_count": 155,
   "id": "c011f59f-93e0-46e0-9e3e-5052060013fb",
   "metadata": {},
   "outputs": [
    {
     "data": {
      "text/plain": [
       "array([[ 1,  2,  3,  4,  5],\n",
       "       [ 6,  7,  8,  9, 10]])"
      ]
     },
     "execution_count": 155,
     "metadata": {},
     "output_type": "execute_result"
    }
   ],
   "source": [
    "n=a.reshape(2,5)\n",
    "n"
   ]
  },
  {
   "cell_type": "code",
   "execution_count": 159,
   "id": "a1f6581e-d847-41ad-bdb5-82f22b7c5258",
   "metadata": {},
   "outputs": [
    {
     "name": "stdout",
     "output_type": "stream",
     "text": [
      "[[ 1  6]\n",
      " [ 2  7]\n",
      " [ 3  8]\n",
      " [ 4  9]\n",
      " [ 5 10]]\n",
      "-----------------\n",
      "[[ 1  2  3  4  5]\n",
      " [ 6  7  8  9 10]]\n"
     ]
    }
   ],
   "source": [
    "print(n.transpose())\n",
    "print(\"-----------------\")\n",
    "print(n)"
   ]
  },
  {
   "cell_type": "code",
   "execution_count": 9,
   "id": "d9c2725e-06d5-4fbd-b712-bc616f53fbf6",
   "metadata": {},
   "outputs": [],
   "source": [
    "import numpy as np"
   ]
  },
  {
   "cell_type": "code",
   "execution_count": 4,
   "id": "f26ff9fd-1bea-47f9-b9a4-75225843fe99",
   "metadata": {},
   "outputs": [
    {
     "name": "stdout",
     "output_type": "stream",
     "text": [
      "[1, 2, 3, 4, 5, 6]\n"
     ]
    }
   ],
   "source": [
    "a=[1,2,3,4,5,6]\n",
    "print(a)"
   ]
  },
  {
   "cell_type": "code",
   "execution_count": 11,
   "id": "0f6b5ba6-9f26-4982-9c4a-a2a163c8a960",
   "metadata": {},
   "outputs": [
    {
     "name": "stdout",
     "output_type": "stream",
     "text": [
      "[2, 5, 8, 9, 6, 3]\n"
     ]
    }
   ],
   "source": [
    "b=[2,5,8,9,6,3]\n",
    "print(b)"
   ]
  },
  {
   "cell_type": "code",
   "execution_count": 12,
   "id": "3f713041-1493-4e85-9eef-8fa6fa234ece",
   "metadata": {},
   "outputs": [
    {
     "data": {
      "text/plain": [
       "array([1, 2, 3, 2, 5, 8, 9, 6, 3, 4, 5, 6])"
      ]
     },
     "execution_count": 12,
     "metadata": {},
     "output_type": "execute_result"
    }
   ],
   "source": [
    "np.insert(a,3,b)"
   ]
  },
  {
   "cell_type": "code",
   "execution_count": 13,
   "id": "a9fd4973-9152-4cb5-af52-025ce0d134a0",
   "metadata": {},
   "outputs": [
    {
     "data": {
      "text/plain": [
       "array([5, 8, 9, 6, 3])"
      ]
     },
     "execution_count": 13,
     "metadata": {},
     "output_type": "execute_result"
    }
   ],
   "source": [
    "np.delete(b,0)"
   ]
  },
  {
   "cell_type": "code",
   "execution_count": 14,
   "id": "9304026e-7589-4890-a1c5-f566d4442fae",
   "metadata": {},
   "outputs": [
    {
     "data": {
      "text/plain": [
       "[1, 2, 3, 4, 5, 6]"
      ]
     },
     "execution_count": 14,
     "metadata": {},
     "output_type": "execute_result"
    }
   ],
   "source": [
    "a"
   ]
  },
  {
   "cell_type": "code",
   "execution_count": 16,
   "id": "211fa34c-7bd3-40e2-916b-4d493032b97e",
   "metadata": {},
   "outputs": [
    {
     "data": {
      "text/plain": [
       "([1, 2, 3, 4, 5, 6], [2, 5, 8, 9, 6, 3])"
      ]
     },
     "execution_count": 16,
     "metadata": {},
     "output_type": "execute_result"
    }
   ],
   "source": [
    "(a,b)"
   ]
  },
  {
   "cell_type": "code",
   "execution_count": 19,
   "id": "34804b1a-1986-489d-8248-3860cb0e2dc6",
   "metadata": {},
   "outputs": [
    {
     "data": {
      "text/plain": [
       "array([1, 2, 3, 4, 5, 6, 2, 5, 8, 9, 6, 3])"
      ]
     },
     "execution_count": 19,
     "metadata": {},
     "output_type": "execute_result"
    }
   ],
   "source": [
    "np.hstack((a,b))#with columns"
   ]
  },
  {
   "cell_type": "code",
   "execution_count": 20,
   "id": "b4e40fb7-7193-4c13-92bd-9e4dc322ee3e",
   "metadata": {},
   "outputs": [
    {
     "data": {
      "text/plain": [
       "array([[1, 2, 3, 4, 5, 6],\n",
       "       [2, 5, 8, 9, 6, 3]])"
      ]
     },
     "execution_count": 20,
     "metadata": {},
     "output_type": "execute_result"
    }
   ],
   "source": [
    "np.vstack((a,b))#with rows"
   ]
  },
  {
   "cell_type": "code",
   "execution_count": 27,
   "id": "7dd8958b-2ebc-4596-a105-ff43cd70aca0",
   "metadata": {},
   "outputs": [],
   "source": [
    "a=[[1,2,3],[4,5,6],[4,2,8]]"
   ]
  },
  {
   "cell_type": "code",
   "execution_count": 23,
   "id": "59c08c25-794b-4f40-8116-c44488be2aac",
   "metadata": {},
   "outputs": [
    {
     "data": {
      "text/plain": [
       "array([ 0.84147098,  0.90929743,  0.14112001, -0.7568025 , -0.95892427,\n",
       "       -0.2794155 ])"
      ]
     },
     "execution_count": 23,
     "metadata": {},
     "output_type": "execute_result"
    }
   ],
   "source": [
    "np.sin(a)"
   ]
  },
  {
   "cell_type": "code",
   "execution_count": 28,
   "id": "f0ecdccc-a884-4ab8-a225-77328994fc87",
   "metadata": {},
   "outputs": [
    {
     "data": {
      "text/plain": [
       "35"
      ]
     },
     "execution_count": 28,
     "metadata": {},
     "output_type": "execute_result"
    }
   ],
   "source": [
    "np.sum(a)"
   ]
  },
  {
   "cell_type": "code",
   "execution_count": 29,
   "id": "6e5f4dae-2898-4d6f-9713-5aa3ab7738ef",
   "metadata": {},
   "outputs": [
    {
     "data": {
      "text/plain": [
       "array([ 9,  9, 17])"
      ]
     },
     "execution_count": 29,
     "metadata": {},
     "output_type": "execute_result"
    }
   ],
   "source": [
    "np.sum(a,axis=0)"
   ]
  },
  {
   "cell_type": "code",
   "execution_count": 30,
   "id": "52423d0a-7c17-416e-97ce-8847a4bb14cc",
   "metadata": {},
   "outputs": [
    {
     "data": {
      "text/plain": [
       "array([ 6, 15, 14])"
      ]
     },
     "execution_count": 30,
     "metadata": {},
     "output_type": "execute_result"
    }
   ],
   "source": [
    "np.sum(a,axis=1)"
   ]
  },
  {
   "cell_type": "code",
   "execution_count": 31,
   "id": "ee016bfb-8c4c-4c15-8f13-a8c66ec839a1",
   "metadata": {},
   "outputs": [
    {
     "data": {
      "text/plain": [
       "4.0"
      ]
     },
     "execution_count": 31,
     "metadata": {},
     "output_type": "execute_result"
    }
   ],
   "source": [
    "np.median(a)"
   ]
  },
  {
   "cell_type": "code",
   "execution_count": 32,
   "id": "ba8bba9d-a21f-4b41-9763-fb0eef903403",
   "metadata": {},
   "outputs": [
    {
     "data": {
      "text/plain": [
       "3.888888888888889"
      ]
     },
     "execution_count": 32,
     "metadata": {},
     "output_type": "execute_result"
    }
   ],
   "source": [
    "np.mean(a)"
   ]
  },
  {
   "cell_type": "code",
   "execution_count": 34,
   "id": "ecd79f29-e2b0-4d17-a591-ff667faf7069",
   "metadata": {},
   "outputs": [
    {
     "data": {
      "text/plain": [
       "8"
      ]
     },
     "execution_count": 34,
     "metadata": {},
     "output_type": "execute_result"
    }
   ],
   "source": [
    "np.max(a)"
   ]
  },
  {
   "cell_type": "code",
   "execution_count": 36,
   "id": "89d05ed6-0f73-49db-be0d-197107e2ee02",
   "metadata": {},
   "outputs": [
    {
     "data": {
      "text/plain": [
       "array([[1, 2, 3],\n",
       "       [4, 5, 6],\n",
       "       [2, 4, 8]])"
      ]
     },
     "execution_count": 36,
     "metadata": {},
     "output_type": "execute_result"
    }
   ],
   "source": [
    "np.sort(a)"
   ]
  },
  {
   "cell_type": "code",
   "execution_count": null,
   "id": "3de941af-c718-4d2f-99ab-0ea3b77829f1",
   "metadata": {},
   "outputs": [],
   "source": []
  }
 ],
 "metadata": {
  "kernelspec": {
   "display_name": "Python 3 (ipykernel)",
   "language": "python",
   "name": "python3"
  },
  "language_info": {
   "codemirror_mode": {
    "name": "ipython",
    "version": 3
   },
   "file_extension": ".py",
   "mimetype": "text/x-python",
   "name": "python",
   "nbconvert_exporter": "python",
   "pygments_lexer": "ipython3",
   "version": "3.12.7"
  }
 },
 "nbformat": 4,
 "nbformat_minor": 5
}
